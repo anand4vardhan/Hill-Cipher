{
 "cells": [
  {
   "cell_type": "code",
   "execution_count": 3,
   "metadata": {
    "collapsed": false
   },
   "outputs": [
    {
     "data": {
      "text/plain": [
       "({'A': 0,\n",
       "  'B': 1,\n",
       "  'C': 2,\n",
       "  'D': 3,\n",
       "  'E': 4,\n",
       "  'F': 5,\n",
       "  'G': 6,\n",
       "  'H': 7,\n",
       "  'I': 8,\n",
       "  'J': 9,\n",
       "  'K': 10,\n",
       "  'L': 11,\n",
       "  'M': 12,\n",
       "  'N': 13,\n",
       "  'O': 14,\n",
       "  'P': 15,\n",
       "  'Q': 16,\n",
       "  'R': 17,\n",
       "  'S': 18,\n",
       "  'T': 19,\n",
       "  'U': 20,\n",
       "  'V': 21,\n",
       "  'W': 22,\n",
       "  'X': 23,\n",
       "  'Y': 24,\n",
       "  'Z': 25},\n",
       " {0: 'A',\n",
       "  1: 'B',\n",
       "  2: 'C',\n",
       "  3: 'D',\n",
       "  4: 'E',\n",
       "  5: 'F',\n",
       "  6: 'G',\n",
       "  7: 'H',\n",
       "  8: 'I',\n",
       "  9: 'J',\n",
       "  10: 'K',\n",
       "  11: 'L',\n",
       "  12: 'M',\n",
       "  13: 'N',\n",
       "  14: 'O',\n",
       "  15: 'P',\n",
       "  16: 'Q',\n",
       "  17: 'R',\n",
       "  18: 'S',\n",
       "  19: 'T',\n",
       "  20: 'U',\n",
       "  21: 'V',\n",
       "  22: 'W',\n",
       "  23: 'X',\n",
       "  24: 'Y',\n",
       "  25: 'Z'})"
      ]
     },
     "execution_count": 3,
     "metadata": {},
     "output_type": "execute_result"
    }
   ],
   "source": [
    "map1_upper=dict(zip(\"ABCDEFGHIJKLMNOPQRSTUVWXYZ\",range(26)))\n",
    "map1_lower=dict(zip(\"abcdefghijklmnopqrstuvwxyz\",range(26)))\n",
    "map2_upper=dict(zip(range(26),\"ABCDEFGHIJKLMNOPQRSTUVWXYZ\"))\n",
    "map2_lower=dict(zip(range(26),\"abcdefghijklmnopqrstuvwxyz\"))\n",
    "map1_upper,map2_upper\n"
   ]
  },
  {
   "cell_type": "code",
   "execution_count": 4,
   "metadata": {
    "collapsed": false
   },
   "outputs": [
    {
     "name": "stdout",
     "output_type": "stream",
     "text": [
      "[[19, 4], [11, 4], [6, 17], [0, 15], [7, 24]]\n",
      "[9, 19, 5, 9, 22, 19, 16, 9, 7, 3]\n",
      "jtfjwtqjhd\n"
     ]
    }
   ],
   "source": [
    "plain_msg=\"telegraphy\"\n",
    "\n",
    "mat3=[]\n",
    "for c in range(0,len(plain_msg),2):\n",
    "    if c<(len(plain_msg)-1):\n",
    "        mat3.append([map1_lower[plain_msg[c]],map1_lower[plain_msg[c+1]]])\n",
    "    #print(c)\n",
    "    \n",
    "print(mat3)\n",
    "\n",
    "import numpy as np\n",
    "list=[]\n",
    "text_key=[]\n",
    "key=[[7,8],[11,11]]\n",
    "for i in range(5):\n",
    "            a=mat3[i][0]\n",
    "            b=mat3[i][1]\n",
    "            list=[a,b]\n",
    "            text_key.append((np.matmul(key,list))%26)\n",
    "#print(text_key)\n",
    "\n",
    "cipheredkey=[]\n",
    "for i in range(len(text_key)):\n",
    "    for j in range(2):\n",
    "        cipheredkey.append(text_key[i][j])\n",
    "        \n",
    "print(cipheredkey)\n",
    "\n",
    "\n",
    "cipheredtext=\"\"\n",
    "for i in range(len(cipheredkey)):\n",
    "        cipheredtext+=map2_lower[cipheredkey[i]]\n",
    "print(cipheredtext)\n"
   ]
  },
  {
   "cell_type": "code",
   "execution_count": null,
   "metadata": {
    "collapsed": true
   },
   "outputs": [],
   "source": []
  }
 ],
 "metadata": {
  "kernelspec": {
   "display_name": "Python 3",
   "language": "python",
   "name": "python3"
  },
  "language_info": {
   "codemirror_mode": {
    "name": "ipython",
    "version": 3
   },
   "file_extension": ".py",
   "mimetype": "text/x-python",
   "name": "python",
   "nbconvert_exporter": "python",
   "pygments_lexer": "ipython3",
   "version": "3.6.0"
  }
 },
 "nbformat": 4,
 "nbformat_minor": 2
}
